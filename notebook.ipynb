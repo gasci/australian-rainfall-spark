{
 "cells": [
  {
   "cell_type": "markdown",
   "metadata": {},
   "source": [
    "Author: Dr. Göktuğ Aşcı <br>\n",
    "Email: gok.asci@student.ie.edu <br>\n",
    "Date: 2021-02-21 <br>\n",
    "Licence: MIT License <br>\n",
    "Data: [Rain in Australia](https://www.kaggle.com/jsphyg/weather-dataset-rattle-package)"
   ]
  },
  {
   "cell_type": "code",
   "execution_count": 1,
   "metadata": {},
   "outputs": [
    {
     "data": {
      "text/html": [
       "<img src=\"https://www.visitvictoria.com/-/media/images/gippsland/things-to-do/nature-and-wildlife/rainforest-in-orbost_gip_u_1031651_1600x900.jpg?ts=20160906510302\"/>"
      ],
      "text/plain": [
       "<IPython.core.display.Image object>"
      ]
     },
     "execution_count": 1,
     "metadata": {},
     "output_type": "execute_result"
    }
   ],
   "source": [
    "from IPython.display import Image\n",
    "from IPython.core.display import HTML \n",
    "Image(url= \"https://www.visitvictoria.com/-/media/images/gippsland/things-to-do/nature-and-wildlife/rainforest-in-orbost_gip_u_1031651_1600x900.jpg?ts=20160906510302\")"
   ]
  },
  {
   "cell_type": "markdown",
   "metadata": {},
   "source": [
    "## Background Information\n",
    "Rainfall in Australia has great importance since Australia has a huge ecosystem of animals and plants and it is home to many species. Without rain, forests and animals suffer great loss. Results of this loss is beyond Australia and it may have unwanted consequences. Being able to understand contributing factors on rainfall in Australia helps authorities to take precautions before unwanted consequences emerge. <br>"
   ]
  },
  {
   "cell_type": "markdown",
   "metadata": {},
   "source": [
    "This dataset contains approximately 10 years of daily weather observations from many locations across Australia. <br>\n",
    "\n",
    "RainTomorrow is the variable that shows if it rained the next day. Yes or No? This column is Yes if the rain for that day was 1mm or more. <br>\n",
    "\n",
    "We are going to analyze this data to see the contributing factors to the next day’s rainfall  in Australia."
   ]
  },
  {
   "cell_type": "markdown",
   "metadata": {},
   "source": [
    "## Goal of the Analysis\n",
    "We want to analyze the dataset to discover the regions with the highest and lowest levels of rainfall to compare both groups so that we can focus on improving found variables in the regions with the lowest levels of rainfall."
   ]
  },
  {
   "cell_type": "markdown",
   "metadata": {},
   "source": [
    "## 1. PySpark environment setup"
   ]
  },
  {
   "cell_type": "code",
   "execution_count": 2,
   "metadata": {},
   "outputs": [],
   "source": [
    "import findspark\n",
    "findspark.init()"
   ]
  },
  {
   "cell_type": "code",
   "execution_count": 3,
   "metadata": {},
   "outputs": [],
   "source": [
    "from pyspark.sql.functions import *"
   ]
  },
  {
   "cell_type": "code",
   "execution_count": 4,
   "metadata": {},
   "outputs": [],
   "source": [
    "from pyspark.sql.session import SparkSession\n",
    "spark = SparkSession.builder.getOrCreate()"
   ]
  },
  {
   "cell_type": "markdown",
   "metadata": {},
   "source": [
    "## 2. Data source and Spark data abstraction (DataFrame) setup"
   ]
  },
  {
   "cell_type": "code",
   "execution_count": 5,
   "metadata": {},
   "outputs": [],
   "source": [
    "df = (\n",
    "    spark\n",
    "    .read\n",
    "    .csv('weatherAUS.csv', inferSchema=True, header=True)\n",
    "    .cache()\n",
    ") # optimization to make the processing faster"
   ]
  },
  {
   "cell_type": "code",
   "execution_count": 6,
   "metadata": {},
   "outputs": [
    {
     "data": {
      "text/plain": [
       "['Date',\n",
       " 'Location',\n",
       " 'MinTemp',\n",
       " 'MaxTemp',\n",
       " 'Rainfall',\n",
       " 'Evaporation',\n",
       " 'Sunshine',\n",
       " 'WindGustDir',\n",
       " 'WindGustSpeed',\n",
       " 'WindDir9am',\n",
       " 'WindDir3pm',\n",
       " 'WindSpeed9am',\n",
       " 'WindSpeed3pm',\n",
       " 'Humidity9am',\n",
       " 'Humidity3pm',\n",
       " 'Pressure9am',\n",
       " 'Pressure3pm',\n",
       " 'Cloud9am',\n",
       " 'Cloud3pm',\n",
       " 'Temp9am',\n",
       " 'Temp3pm',\n",
       " 'RainToday',\n",
       " 'RainTomorrow']"
      ]
     },
     "execution_count": 6,
     "metadata": {},
     "output_type": "execute_result"
    }
   ],
   "source": [
    "df.columns"
   ]
  },
  {
   "cell_type": "markdown",
   "metadata": {},
   "source": [
    "## 3. Data set metadata analysis\n",
    "### A. Display schema and size of the DataFrame / Simple data cleaning"
   ]
  },
  {
   "cell_type": "code",
   "execution_count": 7,
   "metadata": {},
   "outputs": [],
   "source": [
    "from IPython.display import display, Markdown\n",
    "from pyspark.sql.types import *"
   ]
  },
  {
   "cell_type": "code",
   "execution_count": 8,
   "metadata": {
    "scrolled": true
   },
   "outputs": [
    {
     "name": "stdout",
     "output_type": "stream",
     "text": [
      "root\n",
      " |-- Date: string (nullable = true)\n",
      " |-- Location: string (nullable = true)\n",
      " |-- MinTemp: string (nullable = true)\n",
      " |-- MaxTemp: string (nullable = true)\n",
      " |-- Rainfall: string (nullable = true)\n",
      " |-- Evaporation: string (nullable = true)\n",
      " |-- Sunshine: string (nullable = true)\n",
      " |-- WindGustDir: string (nullable = true)\n",
      " |-- WindGustSpeed: string (nullable = true)\n",
      " |-- WindDir9am: string (nullable = true)\n",
      " |-- WindDir3pm: string (nullable = true)\n",
      " |-- WindSpeed9am: string (nullable = true)\n",
      " |-- WindSpeed3pm: string (nullable = true)\n",
      " |-- Humidity9am: string (nullable = true)\n",
      " |-- Humidity3pm: string (nullable = true)\n",
      " |-- Pressure9am: string (nullable = true)\n",
      " |-- Pressure3pm: string (nullable = true)\n",
      " |-- Cloud9am: string (nullable = true)\n",
      " |-- Cloud3pm: string (nullable = true)\n",
      " |-- Temp9am: string (nullable = true)\n",
      " |-- Temp3pm: string (nullable = true)\n",
      " |-- RainToday: string (nullable = true)\n",
      " |-- RainTomorrow: string (nullable = true)\n",
      "\n"
     ]
    },
    {
     "data": {
      "text/plain": [
       "'This DataFrame has 145460 rows and 23 columns.'"
      ]
     },
     "execution_count": 8,
     "metadata": {},
     "output_type": "execute_result"
    }
   ],
   "source": [
    "df.printSchema()\n",
    "\"This DataFrame has {} rows and {} columns.\".format(df.count(), len(df.columns)) "
   ]
  },
  {
   "cell_type": "markdown",
   "metadata": {},
   "source": [
    "We have null values in the table but they are represented as NA. First we should convert them to null:"
   ]
  },
  {
   "cell_type": "markdown",
   "metadata": {},
   "source": [
    "### Simple Data Cleaning and Preparation"
   ]
  },
  {
   "cell_type": "code",
   "execution_count": 9,
   "metadata": {},
   "outputs": [],
   "source": [
    "def blank_as_null(x):\n",
    "    return when(col(x) != \"NA\", col(x)).otherwise(None)\n",
    "\n",
    "df = (df\n",
    "      .withColumn(\"Date\", blank_as_null(\"Date\"))\n",
    "      .withColumn(\"Location\", blank_as_null(\"Location\"))\n",
    "      .withColumn(\"MinTemp\", blank_as_null(\"MinTemp\").cast(FloatType()))\n",
    "      .withColumn(\"MaxTemp\", blank_as_null(\"MaxTemp\").cast(FloatType()))\n",
    "      .withColumn(\"Rainfall\", blank_as_null(\"Rainfall\").cast(FloatType()))\n",
    "      .withColumn(\"Evaporation\", blank_as_null(\"Evaporation\").cast(FloatType()))\n",
    "      .withColumn(\"Sunshine\", blank_as_null(\"Sunshine\").cast(FloatType()))\n",
    "      .withColumn(\"WindGustDir\", blank_as_null(\"WindGustDir\"))\n",
    "      .withColumn(\"WindGustSpeed\", blank_as_null(\"WindGustSpeed\").cast(IntegerType()))\n",
    "      .withColumn(\"WindDir9am\", blank_as_null(\"WindDir9am\"))\n",
    "      .withColumn(\"WindDir3pm\", blank_as_null(\"WindDir3pm\"))\n",
    "      .withColumn(\"WindSpeed9am\", blank_as_null(\"WindSpeed9am\").cast(IntegerType()))\n",
    "      .withColumn(\"WindSpeed3pm\", blank_as_null(\"WindSpeed3pm\").cast(IntegerType()))\n",
    "      .withColumn(\"Humidity9am\", blank_as_null(\"Humidity9am\").cast(IntegerType()))\n",
    "      .withColumn(\"Humidity3pm\", blank_as_null(\"Humidity3pm\").cast(IntegerType()))\n",
    "      .withColumn(\"Pressure9am\", blank_as_null(\"Pressure9am\").cast(FloatType()))\n",
    "      .withColumn(\"Pressure3pm\", blank_as_null(\"Pressure3pm\").cast(FloatType()))\n",
    "      .withColumn(\"Cloud9am\", blank_as_null(\"Cloud9am\").cast(IntegerType()))\n",
    "      .withColumn(\"Cloud3pm\", blank_as_null(\"Cloud3pm\").cast(IntegerType()))\n",
    "      .withColumn(\"Temp9am\", blank_as_null(\"Temp9am\").cast(FloatType()))\n",
    "      .withColumn(\"Temp3pm\", blank_as_null(\"Temp3pm\").cast(FloatType()))\n",
    "      .withColumn(\"RainToday\", blank_as_null(\"RainToday\"))\n",
    "      .withColumn(\"RainTomorrow\", blank_as_null(\"RainTomorrow\"))\n",
    ")"
   ]
  },
  {
   "cell_type": "markdown",
   "metadata": {},
   "source": [
    "**Date**: The date of observation <br>\n",
    "**Location**: The common name of the location of the weather station <br>\n",
    "**MinTemp**: The minimum temperature in degrees celsius <br>\n",
    "**MaxTemp**: The maximum temperature in degrees celsius <br>\n",
    "**Rainfall**: The amount of rainfall recorded for the day in mm <br>\n",
    "**Evaporation**: The so-called Class A pan evaporation (mm) in the 24 hours to 9am <br>\n",
    "**Sunshine**: The number of hours of bright sunshine in the day. <br> \n",
    "**WindGustDir**: The direction of the strongest wind gust in the 24 hours to midnight <br>\n",
    "**WindGustSpeed**: The speed (km/h) of the strongest wind gust in the 24 hours to midnight <br> \n",
    "**WindDir9am**: Direction of the wind at 9am <br>\n",
    "**WindDir3pm**: Direction of the wind at 3pm <br>\n",
    "**WindSpeed9am**: Wind speed (km/hr) averaged over 10 minutes prior to 9am <br>\n",
    "**WindSpeed3pm**: Wind speed (km/hr) averaged over 10 minutes prior to 3pm <br>\n",
    "**Humidity9am**: Humidity (percent) at 9am <br>\n",
    "**Humidity3pm**: Humidity (percent) at 3pm <br>\n",
    "**Pressure9am**: Atmospheric pressure (hpa) reduced to mean sea level at 9am <br>\n",
    "**Pressure3pm**: Atmospheric pressure (hpa) reduced to mean sea level at 3pm <br>\n",
    "**Cloud9am**: Fraction of sky obscured by cloud at 9am. This is measured in \"oktas\", which are a unit of eigths. It records how many <br>\n",
    "**Cloud3pm**: Fraction of sky obscured by cloud (in \"oktas\": eighths) at 3pm. See Cload9am for a description of the values <br>\n",
    "**Temp9am**: Temperature (degrees C) at 9am <br>\n",
    "**Temp3pm**: Temperature (degrees C) at 3pm <br>\n",
    "**RainToday**: True if precipitation (mm) in the 24 hours to 9am exceeds 1mm, otherwise 0 <br>\n",
    "**RainTomorrow**: The amount of next day rain in mm. Used to create response variable RainTomorrow. A kind of measure of the \"risk\". "
   ]
  },
  {
   "cell_type": "code",
   "execution_count": 10,
   "metadata": {
    "scrolled": false
   },
   "outputs": [
    {
     "data": {
      "text/plain": [
       "0.10308227743558884"
      ]
     },
     "execution_count": 10,
     "metadata": {},
     "output_type": "execute_result"
    }
   ],
   "source": [
    "df.stat.corr(\"Rainfall\",\"MinTemp\")"
   ]
  },
  {
   "cell_type": "markdown",
   "metadata": {},
   "source": [
    "Relatively high correlation with MinTemp but still low."
   ]
  },
  {
   "cell_type": "code",
   "execution_count": 11,
   "metadata": {},
   "outputs": [
    {
     "data": {
      "text/plain": [
       "-0.06707040954376242"
      ]
     },
     "execution_count": 11,
     "metadata": {},
     "output_type": "execute_result"
    }
   ],
   "source": [
    "df.stat.corr(\"Rainfall\",\"MaxTemp\")"
   ]
  },
  {
   "cell_type": "code",
   "execution_count": 12,
   "metadata": {},
   "outputs": [
    {
     "data": {
      "text/plain": [
       "-0.053597156761932274"
      ]
     },
     "execution_count": 12,
     "metadata": {},
     "output_type": "execute_result"
    }
   ],
   "source": [
    "df.stat.corr(\"Rainfall\",\"Evaporation\")"
   ]
  },
  {
   "cell_type": "code",
   "execution_count": 13,
   "metadata": {},
   "outputs": [
    {
     "data": {
      "text/plain": [
       "-0.09648941553419445"
      ]
     },
     "execution_count": 13,
     "metadata": {},
     "output_type": "execute_result"
    }
   ],
   "source": [
    "df.stat.corr(\"Rainfall\",\"Sunshine\")"
   ]
  },
  {
   "cell_type": "code",
   "execution_count": 14,
   "metadata": {},
   "outputs": [
    {
     "data": {
      "text/plain": [
       "0.09238192821408384"
      ]
     },
     "execution_count": 14,
     "metadata": {},
     "output_type": "execute_result"
    }
   ],
   "source": [
    "df.stat.corr(\"Rainfall\",\"WindGustSpeed\")"
   ]
  },
  {
   "cell_type": "code",
   "execution_count": 15,
   "metadata": {},
   "outputs": [
    {
     "data": {
      "text/plain": [
       "0.08427159460703114"
      ]
     },
     "execution_count": 15,
     "metadata": {},
     "output_type": "execute_result"
    }
   ],
   "source": [
    "df.stat.corr(\"Rainfall\",\"WindSpeed9am\")"
   ]
  },
  {
   "cell_type": "code",
   "execution_count": 16,
   "metadata": {},
   "outputs": [
    {
     "data": {
      "text/plain": [
       "0.05195824896950231"
      ]
     },
     "execution_count": 16,
     "metadata": {},
     "output_type": "execute_result"
    }
   ],
   "source": [
    "df.stat.corr(\"Rainfall\",\"WindSpeed3pm\")"
   ]
  },
  {
   "cell_type": "code",
   "execution_count": 17,
   "metadata": {},
   "outputs": [
    {
     "data": {
      "text/plain": [
       "0.20025536198537847"
      ]
     },
     "execution_count": 17,
     "metadata": {},
     "output_type": "execute_result"
    }
   ],
   "source": [
    "df.stat.corr(\"Rainfall\",\"Humidity9am\")"
   ]
  },
  {
   "cell_type": "code",
   "execution_count": 18,
   "metadata": {},
   "outputs": [
    {
     "data": {
      "text/plain": [
       "0.22498815685917117"
      ]
     },
     "execution_count": 18,
     "metadata": {},
     "output_type": "execute_result"
    }
   ],
   "source": [
    "df.stat.corr(\"Rainfall\",\"Humidity3pm\")"
   ]
  },
  {
   "cell_type": "markdown",
   "metadata": {},
   "source": [
    "It looks like Humidity at any hour has the highest correlation with the rainfall compared to other variables."
   ]
  },
  {
   "cell_type": "code",
   "execution_count": 19,
   "metadata": {},
   "outputs": [
    {
     "data": {
      "text/plain": [
       "-0.000628629675978074"
      ]
     },
     "execution_count": 19,
     "metadata": {},
     "output_type": "execute_result"
    }
   ],
   "source": [
    "df.stat.corr(\"Rainfall\",\"Pressure9am\")"
   ]
  },
  {
   "cell_type": "code",
   "execution_count": 20,
   "metadata": {},
   "outputs": [
    {
     "data": {
      "text/plain": [
       "-0.0006133432662193096"
      ]
     },
     "execution_count": 20,
     "metadata": {},
     "output_type": "execute_result"
    }
   ],
   "source": [
    "df.stat.corr(\"Rainfall\",\"Pressure3pm\")"
   ]
  },
  {
   "cell_type": "code",
   "execution_count": 21,
   "metadata": {},
   "outputs": [
    {
     "data": {
      "text/plain": [
       "0.012563916616111816"
      ]
     },
     "execution_count": 21,
     "metadata": {},
     "output_type": "execute_result"
    }
   ],
   "source": [
    "df.stat.corr(\"Rainfall\",\"Temp9am\")"
   ]
  },
  {
   "cell_type": "code",
   "execution_count": 22,
   "metadata": {},
   "outputs": [
    {
     "data": {
      "text/plain": [
       "-0.07218438816291148"
      ]
     },
     "execution_count": 22,
     "metadata": {},
     "output_type": "execute_result"
    }
   ],
   "source": [
    "df.stat.corr(\"Rainfall\",\"Temp3pm\")"
   ]
  },
  {
   "cell_type": "markdown",
   "metadata": {},
   "source": [
    "### B. Get one sample from the data set"
   ]
  },
  {
   "cell_type": "code",
   "execution_count": 23,
   "metadata": {
    "scrolled": true
   },
   "outputs": [
    {
     "data": {
      "text/plain": [
       "[Row(Date='2008-12-01', Location='Albury', MinTemp=13.399999618530273, MaxTemp=22.899999618530273, Rainfall=0.6000000238418579, Evaporation=None, Sunshine=None, WindGustDir='W', WindGustSpeed=44, WindDir9am='W', WindDir3pm='WNW', WindSpeed9am=20, WindSpeed3pm=24, Humidity9am=71, Humidity3pm=22, Pressure9am=1007.7000122070312, Pressure3pm=1007.0999755859375, Cloud9am=8, Cloud3pm=None, Temp9am=16.899999618530273, Temp3pm=21.799999237060547, RainToday='No', RainTomorrow='No')]"
      ]
     },
     "metadata": {},
     "output_type": "display_data"
    }
   ],
   "source": [
    "# take(1)\n",
    "display(df.take(1))"
   ]
  },
  {
   "cell_type": "markdown",
   "metadata": {},
   "source": [
    "### C. Data entities, metrics and dimensions\n",
    "\n",
    "I've identified the following elements:\n",
    "\n",
    "* **Entities:** Weather\n",
    "* **Metrics:** RainTomorrow, Rainfall, RainToday, MinTemp, MaxTemp, Evaporation, Sunshine, WindGustSpeed, WindSpeed9am, WindSpeed3pm, Humidity9am, Humidity3pm, Pressure9am, Pressure3pm, Cloud9am, Cloud3pm, Temp9am, Temp3pm\n",
    "* **Dimensions:** Location (location), Date (time), WindGustDir, WindDir9am, WindDir3pm\n",
    "\n",
    "### D. Column categorization\n",
    "\n",
    "The following could be a potential column categorization:\n",
    "\n",
    "* **Time and Location related columns:** Date, Location\n",
    "* **Wind related columns:** WindGustDir, WindDir9am, WindDir3pm, WindGustSpeed, WindSpeed9am, WindSpeed3pm\n",
    "* **Temperature related columns.** MinTemp, MaxTemp, Temp9am, Temp3pm\n",
    "* **Rain related and other columns.** Humidity9am, Humidity3pm, Pressure9am, Pressure3pm, Cloud9am, Cloud3pm, Evaporation, Sunshine\n",
    "* **Issue related columns:** RainTomorrow, Rainfall, RainToday\n",
    "\n",
    "## 4. Columns groups basic profiling to better understand our data set\n",
    "### A. Timing and location related columns basic profiling"
   ]
  },
  {
   "cell_type": "code",
   "execution_count": 24,
   "metadata": {
    "scrolled": false
   },
   "outputs": [],
   "source": [
    "from IPython.display import display, Markdown"
   ]
  },
  {
   "cell_type": "code",
   "execution_count": 25,
   "metadata": {},
   "outputs": [],
   "source": [
    "# let's add year month day seperately for daily, montly, yearly analysis\n",
    "split_date = split(df['Date'], '-')     \n",
    "df = df.withColumn('Year', split_date.getItem(0))\n",
    "df = df.withColumn('Month', split_date.getItem(1))\n",
    "df = df.withColumn('Day', split_date.getItem(2))"
   ]
  },
  {
   "cell_type": "code",
   "execution_count": 26,
   "metadata": {},
   "outputs": [
    {
     "name": "stdout",
     "output_type": "stream",
     "text": [
      "Summary of columns Date and Location:\n",
      "+-------+----------+--------+\n",
      "|summary|      Date|Location|\n",
      "+-------+----------+--------+\n",
      "|  count|    145460|  145460|\n",
      "|   mean|      null|    null|\n",
      "| stddev|      null|    null|\n",
      "|    min|2007-11-01|Adelaide|\n",
      "|    25%|      null|    null|\n",
      "|    50%|      null|    null|\n",
      "|    75%|      null|    null|\n",
      "|    max|2017-06-25| Woomera|\n",
      "+-------+----------+--------+\n",
      "\n"
     ]
    }
   ],
   "source": [
    "analysis_col_list = [\"Location\", \"Date\" ,\"Year\" ,\"Month\" ,\"Day\"]\n",
    "\n",
    "print (\"Summary of columns Date and Location:\")\n",
    "df.select(\"Date\",\"Location\").summary().show()"
   ]
  },
  {
   "cell_type": "code",
   "execution_count": 27,
   "metadata": {
    "scrolled": true
   },
   "outputs": [
    {
     "name": "stdout",
     "output_type": "stream",
     "text": [
      "Checking for nulls on columns:\n",
      "+--------+----+----+-----+---+\n",
      "|Location|Date|Year|Month|Day|\n",
      "+--------+----+----+-----+---+\n",
      "|       0|   0|   0|    0|  0|\n",
      "+--------+----+----+-----+---+\n",
      "\n"
     ]
    }
   ],
   "source": [
    "print(\"Checking for nulls on columns:\")\n",
    "df.select([count(when(col(c).isNull(), c)).alias(c) for c in analysis_col_list]).show()"
   ]
  },
  {
   "cell_type": "markdown",
   "metadata": {},
   "source": [
    "Every row includes Location and Date value with (Year, Month, Day given)"
   ]
  },
  {
   "cell_type": "code",
   "execution_count": 28,
   "metadata": {
    "scrolled": true
   },
   "outputs": [
    {
     "name": "stdout",
     "output_type": "stream",
     "text": [
      "Checking amount of distinct values:\n",
      "+--------+----+----+-----+---+\n",
      "|Location|Date|Year|Month|Day|\n",
      "+--------+----+----+-----+---+\n",
      "|      49|3436|  11|   12| 31|\n",
      "+--------+----+----+-----+---+\n",
      "\n"
     ]
    }
   ],
   "source": [
    "print(\"Checking amount of distinct values:\")\n",
    "df.select([countDistinct(c).alias(c) for c in analysis_col_list]).show()"
   ]
  },
  {
   "cell_type": "markdown",
   "metadata": {},
   "source": [
    "We have data from 49 different locations and 3436 days (nearly 10 years)"
   ]
  },
  {
   "cell_type": "code",
   "execution_count": 29,
   "metadata": {},
   "outputs": [
    {
     "name": "stdout",
     "output_type": "stream",
     "text": [
      "Most and least frequent occurrences:\n",
      "+----------+-----+\n",
      "|Location  |count|\n",
      "+----------+-----+\n",
      "|Canberra  |3436 |\n",
      "|Sydney    |3344 |\n",
      "|Brisbane  |3193 |\n",
      "|Darwin    |3193 |\n",
      "|Adelaide  |3193 |\n",
      "|Perth     |3193 |\n",
      "|Hobart    |3193 |\n",
      "|Melbourne |3193 |\n",
      "|Wollongong|3040 |\n",
      "|Cairns    |3040 |\n",
      "+----------+-----+\n",
      "only showing top 10 rows\n",
      "\n"
     ]
    },
    {
     "data": {
      "text/plain": [
       "('leastFreq: Nhil - 1578', 'mostFreq: Canberra - 3436')"
      ]
     },
     "execution_count": 29,
     "metadata": {},
     "output_type": "execute_result"
    }
   ],
   "source": [
    "print (\"Most and least frequent occurrences:\")\n",
    "column_name = \"Location\"\n",
    "\n",
    "occurencesDF= df.groupBy(column_name).count()\n",
    "occurencesDF.sort(occurencesDF[\"count\"].desc()).show(10, False)\n",
    "\n",
    "leastFreq    = occurencesDF.orderBy(col(\"count\").asc()).first()\n",
    "mostFreq      = occurencesDF.orderBy(col(\"count\").desc()).first()\n",
    "\n",
    "(\n",
    "    \"leastFreq: {} - {}\".format(leastFreq[column_name], leastFreq[\"count\"]),\n",
    "    \"mostFreq: {} - {}\".format(mostFreq[column_name], mostFreq[\"count\"]),\n",
    ")"
   ]
  },
  {
   "cell_type": "markdown",
   "metadata": {},
   "source": [
    "Nhil has the lowest number of data and Canberra has the highest number"
   ]
  },
  {
   "cell_type": "markdown",
   "metadata": {},
   "source": [
    "### B. Wind related columns basic profiling"
   ]
  },
  {
   "cell_type": "code",
   "execution_count": 30,
   "metadata": {
    "scrolled": true
   },
   "outputs": [
    {
     "name": "stdout",
     "output_type": "stream",
     "text": [
      "Summary of columns:\n"
     ]
    },
    {
     "data": {
      "text/html": [
       "<div>\n",
       "<style scoped>\n",
       "    .dataframe tbody tr th:only-of-type {\n",
       "        vertical-align: middle;\n",
       "    }\n",
       "\n",
       "    .dataframe tbody tr th {\n",
       "        vertical-align: top;\n",
       "    }\n",
       "\n",
       "    .dataframe thead th {\n",
       "        text-align: right;\n",
       "    }\n",
       "</style>\n",
       "<table border=\"1\" class=\"dataframe\">\n",
       "  <thead>\n",
       "    <tr style=\"text-align: right;\">\n",
       "      <th></th>\n",
       "      <th>summary</th>\n",
       "      <th>WindGustDir</th>\n",
       "      <th>WindDir9am</th>\n",
       "      <th>WindDir3pm</th>\n",
       "      <th>WindGustSpeed</th>\n",
       "      <th>WindSpeed9am</th>\n",
       "      <th>WindSpeed3pm</th>\n",
       "    </tr>\n",
       "  </thead>\n",
       "  <tbody>\n",
       "    <tr>\n",
       "      <th>0</th>\n",
       "      <td>count</td>\n",
       "      <td>135134</td>\n",
       "      <td>134894</td>\n",
       "      <td>141232</td>\n",
       "      <td>135197</td>\n",
       "      <td>143693</td>\n",
       "      <td>142398</td>\n",
       "    </tr>\n",
       "    <tr>\n",
       "      <th>1</th>\n",
       "      <td>mean</td>\n",
       "      <td>None</td>\n",
       "      <td>None</td>\n",
       "      <td>None</td>\n",
       "      <td>40.03523007167319</td>\n",
       "      <td>14.043425914971502</td>\n",
       "      <td>18.662656778887342</td>\n",
       "    </tr>\n",
       "    <tr>\n",
       "      <th>2</th>\n",
       "      <td>stddev</td>\n",
       "      <td>None</td>\n",
       "      <td>None</td>\n",
       "      <td>None</td>\n",
       "      <td>13.60706226738142</td>\n",
       "      <td>8.91537532267949</td>\n",
       "      <td>8.809800021251455</td>\n",
       "    </tr>\n",
       "    <tr>\n",
       "      <th>3</th>\n",
       "      <td>min</td>\n",
       "      <td>E</td>\n",
       "      <td>E</td>\n",
       "      <td>E</td>\n",
       "      <td>6</td>\n",
       "      <td>0</td>\n",
       "      <td>0</td>\n",
       "    </tr>\n",
       "    <tr>\n",
       "      <th>4</th>\n",
       "      <td>25%</td>\n",
       "      <td>None</td>\n",
       "      <td>None</td>\n",
       "      <td>None</td>\n",
       "      <td>31</td>\n",
       "      <td>7</td>\n",
       "      <td>13</td>\n",
       "    </tr>\n",
       "    <tr>\n",
       "      <th>5</th>\n",
       "      <td>50%</td>\n",
       "      <td>None</td>\n",
       "      <td>None</td>\n",
       "      <td>None</td>\n",
       "      <td>39</td>\n",
       "      <td>13</td>\n",
       "      <td>19</td>\n",
       "    </tr>\n",
       "    <tr>\n",
       "      <th>6</th>\n",
       "      <td>75%</td>\n",
       "      <td>None</td>\n",
       "      <td>None</td>\n",
       "      <td>None</td>\n",
       "      <td>48</td>\n",
       "      <td>19</td>\n",
       "      <td>24</td>\n",
       "    </tr>\n",
       "    <tr>\n",
       "      <th>7</th>\n",
       "      <td>max</td>\n",
       "      <td>WSW</td>\n",
       "      <td>WSW</td>\n",
       "      <td>WSW</td>\n",
       "      <td>135</td>\n",
       "      <td>130</td>\n",
       "      <td>87</td>\n",
       "    </tr>\n",
       "  </tbody>\n",
       "</table>\n",
       "</div>"
      ],
      "text/plain": [
       "  summary WindGustDir WindDir9am WindDir3pm      WindGustSpeed  \\\n",
       "0   count      135134     134894     141232             135197   \n",
       "1    mean        None       None       None  40.03523007167319   \n",
       "2  stddev        None       None       None  13.60706226738142   \n",
       "3     min           E          E          E                  6   \n",
       "4     25%        None       None       None                 31   \n",
       "5     50%        None       None       None                 39   \n",
       "6     75%        None       None       None                 48   \n",
       "7     max         WSW        WSW        WSW                135   \n",
       "\n",
       "         WindSpeed9am        WindSpeed3pm  \n",
       "0              143693              142398  \n",
       "1  14.043425914971502  18.662656778887342  \n",
       "2    8.91537532267949   8.809800021251455  \n",
       "3                   0                   0  \n",
       "4                   7                  13  \n",
       "5                  13                  19  \n",
       "6                  19                  24  \n",
       "7                 130                  87  "
      ]
     },
     "execution_count": 30,
     "metadata": {},
     "output_type": "execute_result"
    }
   ],
   "source": [
    "analysis_col_list = [\"WindGustDir\", \"WindDir9am\", \"WindDir3pm\", \"WindGustSpeed\", \"WindSpeed9am\", \"WindSpeed3pm\"]\n",
    "\n",
    "print (\"Summary of columns:\")\n",
    "df.select(analysis_col_list).summary().toPandas()"
   ]
  },
  {
   "cell_type": "markdown",
   "metadata": {},
   "source": [
    "The East doesn't blow the wind so often where West-South-West blows the most wind."
   ]
  },
  {
   "cell_type": "code",
   "execution_count": 31,
   "metadata": {
    "scrolled": true
   },
   "outputs": [
    {
     "name": "stdout",
     "output_type": "stream",
     "text": [
      "Checking for nulls on columns:\n",
      "+-----------+----------+----------+-------------+------------+------------+\n",
      "|WindGustDir|WindDir9am|WindDir3pm|WindGustSpeed|WindSpeed9am|WindSpeed3pm|\n",
      "+-----------+----------+----------+-------------+------------+------------+\n",
      "|      10326|     10566|      4228|        10263|        1767|        3062|\n",
      "+-----------+----------+----------+-------------+------------+------------+\n",
      "\n"
     ]
    }
   ],
   "source": [
    "print(\"Checking for nulls on columns:\")\n",
    "df.select([count(when(col(c).isNull(), c)).alias(c) for c in analysis_col_list]).show()"
   ]
  },
  {
   "cell_type": "code",
   "execution_count": 32,
   "metadata": {
    "scrolled": true
   },
   "outputs": [
    {
     "name": "stdout",
     "output_type": "stream",
     "text": [
      "Checking amount of distinct values:\n",
      "+-----------+----------+----------+-------------+------------+------------+\n",
      "|WindGustDir|WindDir9am|WindDir3pm|WindGustSpeed|WindSpeed9am|WindSpeed3pm|\n",
      "+-----------+----------+----------+-------------+------------+------------+\n",
      "|         16|        16|        16|           67|          43|          44|\n",
      "+-----------+----------+----------+-------------+------------+------------+\n",
      "\n"
     ]
    }
   ],
   "source": [
    "print(\"Checking amount of distinct values:\")\n",
    "df.select([countDistinct(c).alias(c) for c in analysis_col_list]).show()"
   ]
  },
  {
   "cell_type": "markdown",
   "metadata": {},
   "source": [
    "As expected the are 4 * 4 * 4 directions"
   ]
  },
  {
   "cell_type": "code",
   "execution_count": 33,
   "metadata": {
    "scrolled": true
   },
   "outputs": [
    {
     "name": "stdout",
     "output_type": "stream",
     "text": [
      "Most and least frequent occurrences:\n",
      "+-------------+-----+\n",
      "|WindGustSpeed|count|\n",
      "+-------------+-----+\n",
      "|null         |10263|\n",
      "|35           |9215 |\n",
      "|39           |8794 |\n",
      "|31           |8428 |\n",
      "|37           |8047 |\n",
      "|33           |7933 |\n",
      "|41           |7369 |\n",
      "|30           |7038 |\n",
      "|43           |6609 |\n",
      "|28           |6478 |\n",
      "+-------------+-----+\n",
      "only showing top 10 rows\n",
      "\n"
     ]
    },
    {
     "data": {
      "text/plain": [
       "('leastFreq: 6 - 1', 'mostFreq: None - 10263')"
      ]
     },
     "execution_count": 33,
     "metadata": {},
     "output_type": "execute_result"
    }
   ],
   "source": [
    "print (\"Most and least frequent occurrences:\")\n",
    "column_name = \"WindGustSpeed\"\n",
    "\n",
    "occurencesDF= df.groupBy(column_name).count()\n",
    "occurencesDF.sort(occurencesDF[\"count\"].desc()).show(10, False)\n",
    "\n",
    "leastFreq    = occurencesDF.orderBy(col(\"count\").asc()).first()\n",
    "mostFreq      = occurencesDF.orderBy(col(\"count\").desc()).first()\n",
    "\n",
    "(\n",
    "    \"leastFreq: {} - {}\".format(leastFreq[column_name], leastFreq[\"count\"]),\n",
    "    \"mostFreq: {} - {}\".format(mostFreq[column_name], mostFreq[\"count\"]),\n",
    ")"
   ]
  },
  {
   "cell_type": "markdown",
   "metadata": {},
   "source": [
    "We can clearly observe that extreme values are less frequent."
   ]
  },
  {
   "cell_type": "markdown",
   "metadata": {},
   "source": [
    "### C. Temperature related columns basic profiling"
   ]
  },
  {
   "cell_type": "code",
   "execution_count": 34,
   "metadata": {
    "scrolled": true
   },
   "outputs": [
    {
     "name": "stdout",
     "output_type": "stream",
     "text": [
      "Summary of columns:\n"
     ]
    },
    {
     "data": {
      "text/html": [
       "<div>\n",
       "<style scoped>\n",
       "    .dataframe tbody tr th:only-of-type {\n",
       "        vertical-align: middle;\n",
       "    }\n",
       "\n",
       "    .dataframe tbody tr th {\n",
       "        vertical-align: top;\n",
       "    }\n",
       "\n",
       "    .dataframe thead th {\n",
       "        text-align: right;\n",
       "    }\n",
       "</style>\n",
       "<table border=\"1\" class=\"dataframe\">\n",
       "  <thead>\n",
       "    <tr style=\"text-align: right;\">\n",
       "      <th></th>\n",
       "      <th>summary</th>\n",
       "      <th>MinTemp</th>\n",
       "      <th>MaxTemp</th>\n",
       "      <th>Temp9am</th>\n",
       "      <th>Temp3pm</th>\n",
       "    </tr>\n",
       "  </thead>\n",
       "  <tbody>\n",
       "    <tr>\n",
       "      <th>0</th>\n",
       "      <td>count</td>\n",
       "      <td>143975</td>\n",
       "      <td>144199</td>\n",
       "      <td>143693</td>\n",
       "      <td>141851</td>\n",
       "    </tr>\n",
       "    <tr>\n",
       "      <th>1</th>\n",
       "      <td>mean</td>\n",
       "      <td>12.194034381779941</td>\n",
       "      <td>23.221348273321002</td>\n",
       "      <td>16.990631418377568</td>\n",
       "      <td>21.68339031665222</td>\n",
       "    </tr>\n",
       "    <tr>\n",
       "      <th>2</th>\n",
       "      <td>stddev</td>\n",
       "      <td>6.39849497591284</td>\n",
       "      <td>7.119048841492777</td>\n",
       "      <td>6.488753139523496</td>\n",
       "      <td>6.936650457604387</td>\n",
       "    </tr>\n",
       "    <tr>\n",
       "      <th>3</th>\n",
       "      <td>min</td>\n",
       "      <td>-8.5</td>\n",
       "      <td>-4.8</td>\n",
       "      <td>-7.2</td>\n",
       "      <td>-5.4</td>\n",
       "    </tr>\n",
       "    <tr>\n",
       "      <th>4</th>\n",
       "      <td>25%</td>\n",
       "      <td>7.6</td>\n",
       "      <td>17.9</td>\n",
       "      <td>12.3</td>\n",
       "      <td>16.6</td>\n",
       "    </tr>\n",
       "    <tr>\n",
       "      <th>5</th>\n",
       "      <td>50%</td>\n",
       "      <td>12.0</td>\n",
       "      <td>22.6</td>\n",
       "      <td>16.7</td>\n",
       "      <td>21.1</td>\n",
       "    </tr>\n",
       "    <tr>\n",
       "      <th>6</th>\n",
       "      <td>75%</td>\n",
       "      <td>16.9</td>\n",
       "      <td>28.2</td>\n",
       "      <td>21.6</td>\n",
       "      <td>26.4</td>\n",
       "    </tr>\n",
       "    <tr>\n",
       "      <th>7</th>\n",
       "      <td>max</td>\n",
       "      <td>33.9</td>\n",
       "      <td>48.1</td>\n",
       "      <td>40.2</td>\n",
       "      <td>46.7</td>\n",
       "    </tr>\n",
       "  </tbody>\n",
       "</table>\n",
       "</div>"
      ],
      "text/plain": [
       "  summary             MinTemp             MaxTemp             Temp9am  \\\n",
       "0   count              143975              144199              143693   \n",
       "1    mean  12.194034381779941  23.221348273321002  16.990631418377568   \n",
       "2  stddev    6.39849497591284   7.119048841492777   6.488753139523496   \n",
       "3     min                -8.5                -4.8                -7.2   \n",
       "4     25%                 7.6                17.9                12.3   \n",
       "5     50%                12.0                22.6                16.7   \n",
       "6     75%                16.9                28.2                21.6   \n",
       "7     max                33.9                48.1                40.2   \n",
       "\n",
       "             Temp3pm  \n",
       "0             141851  \n",
       "1  21.68339031665222  \n",
       "2  6.936650457604387  \n",
       "3               -5.4  \n",
       "4               16.6  \n",
       "5               21.1  \n",
       "6               26.4  \n",
       "7               46.7  "
      ]
     },
     "execution_count": 34,
     "metadata": {},
     "output_type": "execute_result"
    }
   ],
   "source": [
    "analysis_col_list = [\"MinTemp\", \"MaxTemp\", \"Temp9am\", \"Temp3pm\"]\n",
    "\n",
    "print (\"Summary of columns:\")\n",
    "df.select(analysis_col_list).summary().toPandas()"
   ]
  },
  {
   "cell_type": "markdown",
   "metadata": {},
   "source": [
    "As expected the mean of Temp3pm is highter than Temp9am (And it is very close the MaxTemp)"
   ]
  },
  {
   "cell_type": "code",
   "execution_count": 35,
   "metadata": {},
   "outputs": [
    {
     "name": "stdout",
     "output_type": "stream",
     "text": [
      "Checking for nulls on columns:\n",
      "+-------+-------+-------+-------+\n",
      "|MinTemp|MaxTemp|Temp9am|Temp3pm|\n",
      "+-------+-------+-------+-------+\n",
      "|   1485|   1261|   1767|   3609|\n",
      "+-------+-------+-------+-------+\n",
      "\n"
     ]
    }
   ],
   "source": [
    "print(\"Checking for nulls on columns:\")\n",
    "df.select([count(when(col(c).isNull(), c)).alias(c) for c in analysis_col_list]).show()"
   ]
  },
  {
   "cell_type": "code",
   "execution_count": 36,
   "metadata": {
    "scrolled": true
   },
   "outputs": [
    {
     "name": "stdout",
     "output_type": "stream",
     "text": [
      "Checking amount of distinct values:\n",
      "+-------+-------+-------+-------+\n",
      "|MinTemp|MaxTemp|Temp9am|Temp3pm|\n",
      "+-------+-------+-------+-------+\n",
      "|    389|    505|    441|    502|\n",
      "+-------+-------+-------+-------+\n",
      "\n"
     ]
    }
   ],
   "source": [
    "print(\"Checking amount of distinct values:\")\n",
    "df.select([countDistinct(c).alias(c) for c in analysis_col_list]).show()"
   ]
  },
  {
   "cell_type": "code",
   "execution_count": 37,
   "metadata": {
    "scrolled": true
   },
   "outputs": [
    {
     "name": "stdout",
     "output_type": "stream",
     "text": [
      "Most and least frequent occurrences:\n",
      "+-------+-----+\n",
      "|MinTemp|count|\n",
      "+-------+-----+\n",
      "|null   |1485 |\n",
      "|11.0   |899  |\n",
      "|10.2   |898  |\n",
      "|9.6    |896  |\n",
      "|10.5   |884  |\n",
      "|10.8   |872  |\n",
      "|9.0    |872  |\n",
      "|10.0   |871  |\n",
      "|12.0   |866  |\n",
      "|8.9    |861  |\n",
      "+-------+-----+\n",
      "only showing top 10 rows\n",
      "\n",
      "+-------+-----+\n",
      "|MaxTemp|count|\n",
      "+-------+-----+\n",
      "|null   |1261 |\n",
      "|20.0   |885  |\n",
      "|19.0   |843  |\n",
      "|19.8   |840  |\n",
      "|20.4   |834  |\n",
      "|19.9   |823  |\n",
      "|20.8   |817  |\n",
      "|19.5   |812  |\n",
      "|18.5   |811  |\n",
      "|21.0   |810  |\n",
      "+-------+-----+\n",
      "only showing top 10 rows\n",
      "\n"
     ]
    },
    {
     "data": {
      "text/plain": [
       "('leastFreqMinTemp: -7.099999904632568 - 1',\n",
       " 'mostFreqMinTemp: None - 1485',\n",
       " 'leastFreqMaxTemp: 47.0 - 1',\n",
       " 'mostFreqMaxTemp: None - 1261')"
      ]
     },
     "execution_count": 37,
     "metadata": {},
     "output_type": "execute_result"
    }
   ],
   "source": [
    "print (\"Most and least frequent occurrences:\")\n",
    "column_name = \"MinTemp\"\n",
    "column_two_name = \"MaxTemp\"\n",
    "\n",
    "occurencesDF= df.groupBy(column_name).count()\n",
    "occurencesMaxTempDF= df.groupBy(column_two_name).count()\n",
    "\n",
    "occurencesDF.sort(occurencesDF[\"count\"].desc()).show(10, False)\n",
    "occurencesMaxTempDF.sort(occurencesMaxTempDF[\"count\"].desc()).show(10, False)\n",
    "\n",
    "leastFreq = occurencesDF.orderBy(col(\"count\").asc()).first()\n",
    "mostFreq = occurencesDF.orderBy(col(\"count\").desc()).first()\n",
    "leastFreqMaxTemp = occurencesMaxTempDF.orderBy(col(\"count\").asc()).first()\n",
    "mostFreqMaxTemp = occurencesMaxTempDF.orderBy(col(\"count\").desc()).first()\n",
    "\n",
    "(\n",
    "    \"leastFreqMinTemp: {} - {}\".format(leastFreq[column_name], leastFreq[\"count\"]),\n",
    "    \"mostFreqMinTemp: {} - {}\".format(mostFreq[column_name], mostFreq[\"count\"]),\n",
    "    \"leastFreqMaxTemp: {} - {}\".format(leastFreqMaxTemp[column_two_name], leastFreqMaxTemp[\"count\"]),\n",
    "    \"mostFreqMaxTemp: {} - {}\".format(mostFreqMaxTemp[column_two_name], mostFreqMaxTemp[\"count\"]),\n",
    ")"
   ]
  },
  {
   "cell_type": "markdown",
   "metadata": {},
   "source": [
    "### D. Rain related and other columns basic profiling"
   ]
  },
  {
   "cell_type": "code",
   "execution_count": 38,
   "metadata": {},
   "outputs": [
    {
     "name": "stdout",
     "output_type": "stream",
     "text": [
      "Summary of columns:\n"
     ]
    },
    {
     "data": {
      "text/html": [
       "<div>\n",
       "<style scoped>\n",
       "    .dataframe tbody tr th:only-of-type {\n",
       "        vertical-align: middle;\n",
       "    }\n",
       "\n",
       "    .dataframe tbody tr th {\n",
       "        vertical-align: top;\n",
       "    }\n",
       "\n",
       "    .dataframe thead th {\n",
       "        text-align: right;\n",
       "    }\n",
       "</style>\n",
       "<table border=\"1\" class=\"dataframe\">\n",
       "  <thead>\n",
       "    <tr style=\"text-align: right;\">\n",
       "      <th></th>\n",
       "      <th>summary</th>\n",
       "      <th>Humidity9am</th>\n",
       "      <th>Humidity3pm</th>\n",
       "      <th>Pressure9am</th>\n",
       "      <th>Pressure3pm</th>\n",
       "      <th>Cloud9am</th>\n",
       "      <th>Cloud3pm</th>\n",
       "      <th>Evaporation</th>\n",
       "      <th>Sunshine</th>\n",
       "    </tr>\n",
       "  </thead>\n",
       "  <tbody>\n",
       "    <tr>\n",
       "      <th>0</th>\n",
       "      <td>count</td>\n",
       "      <td>142806</td>\n",
       "      <td>140953</td>\n",
       "      <td>130395</td>\n",
       "      <td>130432</td>\n",
       "      <td>89572</td>\n",
       "      <td>86102</td>\n",
       "      <td>82670</td>\n",
       "      <td>75625</td>\n",
       "    </tr>\n",
       "    <tr>\n",
       "      <th>1</th>\n",
       "      <td>mean</td>\n",
       "      <td>68.88083133761887</td>\n",
       "      <td>51.5391158755046</td>\n",
       "      <td>1017.6499397947478</td>\n",
       "      <td>1015.2558887915008</td>\n",
       "      <td>4.4474612602152455</td>\n",
       "      <td>4.509930082924903</td>\n",
       "      <td>5.468231521887871</td>\n",
       "      <td>7.611177522303053</td>\n",
       "    </tr>\n",
       "    <tr>\n",
       "      <th>2</th>\n",
       "      <td>stddev</td>\n",
       "      <td>19.029164451844167</td>\n",
       "      <td>20.795901656021204</td>\n",
       "      <td>7.106530159387462</td>\n",
       "      <td>7.037413603567235</td>\n",
       "      <td>2.8871588535172408</td>\n",
       "      <td>2.720357310332465</td>\n",
       "      <td>4.193704096708969</td>\n",
       "      <td>3.7854829656916533</td>\n",
       "    </tr>\n",
       "    <tr>\n",
       "      <th>3</th>\n",
       "      <td>min</td>\n",
       "      <td>0</td>\n",
       "      <td>0</td>\n",
       "      <td>980.5</td>\n",
       "      <td>977.1</td>\n",
       "      <td>0</td>\n",
       "      <td>0</td>\n",
       "      <td>0.0</td>\n",
       "      <td>0.0</td>\n",
       "    </tr>\n",
       "    <tr>\n",
       "      <th>4</th>\n",
       "      <td>25%</td>\n",
       "      <td>57</td>\n",
       "      <td>37</td>\n",
       "      <td>1012.9</td>\n",
       "      <td>1010.4</td>\n",
       "      <td>1</td>\n",
       "      <td>2</td>\n",
       "      <td>2.6</td>\n",
       "      <td>4.8</td>\n",
       "    </tr>\n",
       "    <tr>\n",
       "      <th>5</th>\n",
       "      <td>50%</td>\n",
       "      <td>70</td>\n",
       "      <td>52</td>\n",
       "      <td>1017.6</td>\n",
       "      <td>1015.2</td>\n",
       "      <td>5</td>\n",
       "      <td>5</td>\n",
       "      <td>4.8</td>\n",
       "      <td>8.4</td>\n",
       "    </tr>\n",
       "    <tr>\n",
       "      <th>6</th>\n",
       "      <td>75%</td>\n",
       "      <td>83</td>\n",
       "      <td>66</td>\n",
       "      <td>1022.4</td>\n",
       "      <td>1020.0</td>\n",
       "      <td>7</td>\n",
       "      <td>7</td>\n",
       "      <td>7.4</td>\n",
       "      <td>10.6</td>\n",
       "    </tr>\n",
       "    <tr>\n",
       "      <th>7</th>\n",
       "      <td>max</td>\n",
       "      <td>100</td>\n",
       "      <td>100</td>\n",
       "      <td>1041.0</td>\n",
       "      <td>1039.6</td>\n",
       "      <td>9</td>\n",
       "      <td>9</td>\n",
       "      <td>145.0</td>\n",
       "      <td>14.5</td>\n",
       "    </tr>\n",
       "  </tbody>\n",
       "</table>\n",
       "</div>"
      ],
      "text/plain": [
       "  summary         Humidity9am         Humidity3pm         Pressure9am  \\\n",
       "0   count              142806              140953              130395   \n",
       "1    mean   68.88083133761887    51.5391158755046  1017.6499397947478   \n",
       "2  stddev  19.029164451844167  20.795901656021204   7.106530159387462   \n",
       "3     min                   0                   0               980.5   \n",
       "4     25%                  57                  37              1012.9   \n",
       "5     50%                  70                  52              1017.6   \n",
       "6     75%                  83                  66              1022.4   \n",
       "7     max                 100                 100              1041.0   \n",
       "\n",
       "          Pressure3pm            Cloud9am           Cloud3pm  \\\n",
       "0              130432               89572              86102   \n",
       "1  1015.2558887915008  4.4474612602152455  4.509930082924903   \n",
       "2   7.037413603567235  2.8871588535172408  2.720357310332465   \n",
       "3               977.1                   0                  0   \n",
       "4              1010.4                   1                  2   \n",
       "5              1015.2                   5                  5   \n",
       "6              1020.0                   7                  7   \n",
       "7              1039.6                   9                  9   \n",
       "\n",
       "         Evaporation            Sunshine  \n",
       "0              82670               75625  \n",
       "1  5.468231521887871   7.611177522303053  \n",
       "2  4.193704096708969  3.7854829656916533  \n",
       "3                0.0                 0.0  \n",
       "4                2.6                 4.8  \n",
       "5                4.8                 8.4  \n",
       "6                7.4                10.6  \n",
       "7              145.0                14.5  "
      ]
     },
     "execution_count": 38,
     "metadata": {},
     "output_type": "execute_result"
    }
   ],
   "source": [
    "analysis_col_list = [\"Humidity9am\", \"Humidity3pm\", \"Pressure9am\", \"Pressure3pm\", \"Cloud9am\", \"Cloud3pm\", \"Evaporation\", \"Sunshine\"]\n",
    "\n",
    "print (\"Summary of columns:\")\n",
    "# let's use pandas to have a clearer table\n",
    "df.select(analysis_col_list).summary().toPandas()"
   ]
  },
  {
   "cell_type": "code",
   "execution_count": 39,
   "metadata": {},
   "outputs": [
    {
     "name": "stdout",
     "output_type": "stream",
     "text": [
      "Checking for nulls on columns:\n",
      "+-----------+-----------+-----------+-----------+--------+--------+-----------+--------+\n",
      "|Humidity9am|Humidity3pm|Pressure9am|Pressure3pm|Cloud9am|Cloud3pm|Evaporation|Sunshine|\n",
      "+-----------+-----------+-----------+-----------+--------+--------+-----------+--------+\n",
      "|       2654|       4507|      15065|      15028|   55888|   59358|      62790|   69835|\n",
      "+-----------+-----------+-----------+-----------+--------+--------+-----------+--------+\n",
      "\n"
     ]
    }
   ],
   "source": [
    "print(\"Checking for nulls on columns:\")\n",
    "df.select([count(when(col(c).isNull(), c)).alias(c) for c in analysis_col_list]).show()"
   ]
  },
  {
   "cell_type": "code",
   "execution_count": 40,
   "metadata": {
    "scrolled": false
   },
   "outputs": [
    {
     "name": "stdout",
     "output_type": "stream",
     "text": [
      "Checking amount of distinct values:\n",
      "+-----------+-----------+-----------+-----------+--------+--------+-----------+--------+\n",
      "|Humidity9am|Humidity3pm|Pressure9am|Pressure3pm|Cloud9am|Cloud3pm|Evaporation|Sunshine|\n",
      "+-----------+-----------+-----------+-----------+--------+--------+-----------+--------+\n",
      "|        101|        101|        546|        549|      10|      10|        358|     145|\n",
      "+-----------+-----------+-----------+-----------+--------+--------+-----------+--------+\n",
      "\n"
     ]
    }
   ],
   "source": [
    "print(\"Checking amount of distinct values:\")\n",
    "df.select([countDistinct(c).alias(c) for c in analysis_col_list]).show()"
   ]
  },
  {
   "cell_type": "code",
   "execution_count": 41,
   "metadata": {},
   "outputs": [
    {
     "name": "stdout",
     "output_type": "stream",
     "text": [
      "Most and least frequent occurrences:\n",
      "+-----------+-----+\n",
      "|Humidity9am|count|\n",
      "+-----------+-----+\n",
      "|99         |3391 |\n",
      "|70         |3026 |\n",
      "|69         |3023 |\n",
      "|65         |3014 |\n",
      "|68         |3011 |\n",
      "|71         |2976 |\n",
      "|66         |2973 |\n",
      "|67         |2950 |\n",
      "|74         |2917 |\n",
      "|72         |2914 |\n",
      "+-----------+-----+\n",
      "only showing top 10 rows\n",
      "\n",
      "+-----------+-----+\n",
      "|Humidity3pm|count|\n",
      "+-----------+-----+\n",
      "|null       |4507 |\n",
      "|52         |2751 |\n",
      "|55         |2738 |\n",
      "|57         |2728 |\n",
      "|53         |2697 |\n",
      "|59         |2690 |\n",
      "|58         |2643 |\n",
      "|54         |2642 |\n",
      "|50         |2624 |\n",
      "|51         |2621 |\n",
      "+-----------+-----+\n",
      "only showing top 10 rows\n",
      "\n"
     ]
    },
    {
     "data": {
      "text/plain": [
       "('leastFreqHumidity9am: 0 - 1',\n",
       " 'mostFreqHumidity9am: 99 - 3391',\n",
       " 'leastFreqHumidity3pm: 0 - 4',\n",
       " 'mostFreqHumidity3pm: None - 4507')"
      ]
     },
     "execution_count": 41,
     "metadata": {},
     "output_type": "execute_result"
    }
   ],
   "source": [
    "print (\"Most and least frequent occurrences:\")\n",
    "column_name = \"Humidity9am\"\n",
    "column_two_name = \"Humidity3pm\"\n",
    "\n",
    "occurencesDF= df.groupBy(column_name).count()\n",
    "occurencesHumidity3pmDF= df.groupBy(column_two_name).count()\n",
    "\n",
    "occurencesDF.sort(occurencesDF[\"count\"].desc()).show(10, False)\n",
    "occurencesHumidity3pmDF.sort(occurencesHumidity3pmDF[\"count\"].desc()).show(10, False)\n",
    "\n",
    "leastFreq    = occurencesDF.orderBy(col(\"count\").asc()).first()\n",
    "mostFreq      = occurencesDF.orderBy(col(\"count\").desc()).first()\n",
    "leastFreqHumidity3pm = occurencesHumidity3pmDF.orderBy(col(\"count\").asc()).first()\n",
    "mostFreqHumidity3pm = occurencesHumidity3pmDF.orderBy(col(\"count\").desc()).first()\n",
    "\n",
    "(\n",
    "    \"leastFreqHumidity9am: {} - {}\".format(leastFreq[column_name], leastFreq[\"count\"]),\n",
    "    \"mostFreqHumidity9am: {} - {}\".format(mostFreq[column_name], mostFreq[\"count\"]),\n",
    "    \"leastFreqHumidity3pm: {} - {}\".format(leastFreqHumidity3pm[column_two_name], leastFreqHumidity3pm[\"count\"]),\n",
    "    \"mostFreqHumidity3pm: {} - {}\".format(mostFreqHumidity3pm[column_two_name], mostFreqHumidity3pm[\"count\"]),\n",
    ")"
   ]
  },
  {
   "cell_type": "markdown",
   "metadata": {},
   "source": [
    "### E. Issue related columns basic profiling"
   ]
  },
  {
   "cell_type": "code",
   "execution_count": 42,
   "metadata": {},
   "outputs": [
    {
     "name": "stdout",
     "output_type": "stream",
     "text": [
      "Summary of columns:\n",
      "+-------+------------+------------------+---------+\n",
      "|summary|RainTomorrow|          Rainfall|RainToday|\n",
      "+-------+------------+------------------+---------+\n",
      "|  count|      142193|            142199|   142199|\n",
      "|   mean|        null|2.3609181508908756|     null|\n",
      "| stddev|        null|  8.47805974281768|     null|\n",
      "|    min|          No|               0.0|       No|\n",
      "|    25%|        null|               0.0|     null|\n",
      "|    50%|        null|               0.0|     null|\n",
      "|    75%|        null|               0.8|     null|\n",
      "|    max|         Yes|             371.0|      Yes|\n",
      "+-------+------------+------------------+---------+\n",
      "\n"
     ]
    }
   ],
   "source": [
    "analysis_col_list = [\"RainTomorrow\", \"Rainfall\", \"RainToday\"]\n",
    "\n",
    "print (\"Summary of columns:\")\n",
    "df.select(analysis_col_list).summary().show()"
   ]
  },
  {
   "cell_type": "code",
   "execution_count": 43,
   "metadata": {},
   "outputs": [
    {
     "name": "stdout",
     "output_type": "stream",
     "text": [
      "Checking for nulls on columns:\n",
      "+------------+--------+---------+\n",
      "|RainTomorrow|Rainfall|RainToday|\n",
      "+------------+--------+---------+\n",
      "|        3267|    3261|     3261|\n",
      "+------------+--------+---------+\n",
      "\n"
     ]
    }
   ],
   "source": [
    "print(\"Checking for nulls on columns:\")\n",
    "df.select([count(when(col(c).isNull(), c)).alias(c) for c in analysis_col_list]).show()"
   ]
  },
  {
   "cell_type": "code",
   "execution_count": 44,
   "metadata": {},
   "outputs": [
    {
     "name": "stdout",
     "output_type": "stream",
     "text": [
      "Checking amount of distinct values:\n",
      "+------------+--------+---------+\n",
      "|RainTomorrow|Rainfall|RainToday|\n",
      "+------------+--------+---------+\n",
      "|           2|     681|        2|\n",
      "+------------+--------+---------+\n",
      "\n"
     ]
    }
   ],
   "source": [
    "print(\"Checking amount of distinct values:\")\n",
    "df.select([countDistinct(c).alias(c) for c in analysis_col_list]).show()"
   ]
  },
  {
   "cell_type": "markdown",
   "metadata": {},
   "source": [
    "RainTomorrow and RainToday can be only True or False so two options"
   ]
  },
  {
   "cell_type": "code",
   "execution_count": 45,
   "metadata": {},
   "outputs": [
    {
     "data": {
      "text/plain": [
       "31877"
      ]
     },
     "execution_count": 45,
     "metadata": {},
     "output_type": "execute_result"
    }
   ],
   "source": [
    "df.filter(df.RainTomorrow == \"Yes\").count()"
   ]
  },
  {
   "cell_type": "code",
   "execution_count": 46,
   "metadata": {},
   "outputs": [
    {
     "data": {
      "text/plain": [
       "31880"
      ]
     },
     "execution_count": 46,
     "metadata": {},
     "output_type": "execute_result"
    }
   ],
   "source": [
    "df.filter(df.RainToday == \"Yes\").count()"
   ]
  },
  {
   "cell_type": "markdown",
   "metadata": {},
   "source": [
    "There may be slight mistakes since these numbers can be different only the last column is True but the difference should be 1 in that case. But the difference is close enough to continue with both columns."
   ]
  },
  {
   "cell_type": "code",
   "execution_count": 47,
   "metadata": {},
   "outputs": [
    {
     "name": "stdout",
     "output_type": "stream",
     "text": [
      "RainTomorrow/RainToday unique values\n",
      "+------------+\n",
      "|RainTomorrow|\n",
      "+------------+\n",
      "|        null|\n",
      "|          No|\n",
      "|         Yes|\n",
      "+------------+\n",
      "\n",
      "+---------+\n",
      "|RainToday|\n",
      "+---------+\n",
      "|     null|\n",
      "|       No|\n",
      "|      Yes|\n",
      "+---------+\n",
      "\n"
     ]
    }
   ],
   "source": [
    "print(\"RainTomorrow/RainToday unique values\")\n",
    "\n",
    "df.select(\"RainTomorrow\").distinct().show()\n",
    "df.select(\"RainToday\").distinct().show()"
   ]
  },
  {
   "cell_type": "markdown",
   "metadata": {},
   "source": [
    "## 5. Answer some business questions to predict rainfall components"
   ]
  },
  {
   "cell_type": "markdown",
   "metadata": {},
   "source": [
    "**Rates of rainfall**: [Source](https://water.usgs.gov/edu/activity-howmuchrain-metric.html)<br> \n",
    "* Drizzle, very small droplets. <br>\n",
    "* Slight (fine) drizzle: Detectable as droplets only on the face, car windscreens and windows. <br>\n",
    "* Moderate drizzle: Windows and other surfaces stream with water. <br>\n",
    "* Heavy (thick) drizzle: Impairs visibility and is measurable in a raingauge, rates up to 1 mm per hour. <br>\n",
    "* Rain, drops of appreciable size and may be described as small to large drops. It is possible to have rain drops within drizzle! <br>\n",
    "* **Slight rain**: Less than 0.5 mm per hour. <br>\n",
    "* **Moderate rain**: Greater than 0.5 mm per hour, but less than 4.0 mm per hour. <br>\n",
    "* **Heavy rain**: Greater than 4 mm per hour, but less than 8 mm per hour. <br>\n",
    "* **Very heavy rain**: Greater than 8 mm per hour. <br>\n",
    "* Slight shower: Less than 2 mm per hour. <br>\n",
    "* Moderate shower: Greater than 2 mm, but less than 10 mm per hour. <br>\n",
    "* Heavy shower: Greater than 10 mm per hour, but less than 50 mm per hour. <br>\n",
    "* Violent shower: Greater than 50 mm per hour. <br>"
   ]
  },
  {
   "cell_type": "markdown",
   "metadata": {},
   "source": [
    "### A. Ratio of rainy days vs. non-rainy days and their levels"
   ]
  },
  {
   "cell_type": "code",
   "execution_count": 48,
   "metadata": {},
   "outputs": [
    {
     "name": "stdout",
     "output_type": "stream",
     "text": [
      "+-------------+-------+------------+\n",
      "|RainfallLevel|NumDays|RoundedRatio|\n",
      "+-------------+-------+------------+\n",
      "|  1. very low|  91080|       62.62|\n",
      "|       2. low|   6435|        4.42|\n",
      "|    3. medium|  13459|        9.25|\n",
      "|      4. high|   7004|        4.82|\n",
      "| 5. very high|  24221|       16.65|\n",
      "+-------------+-------+------------+\n",
      "\n"
     ]
    }
   ],
   "source": [
    "from pyspark.sql.functions import count, round\n",
    "\n",
    "#   Delay severity is going to be categorized as follows (see the resource above from water.usgs.gov)\n",
    "#   Let's assume that it rained for just one hour:\n",
    "#\n",
    "#   \"very low\"   - <= 0.5 mm of Rainfall\n",
    "#   \"low\"        - 0.5 to 1.0 mm of Rainfall\n",
    "#   \"medium\"     - 1.0 to 4.0 mm of Rainfall # the dataset assumes that the day is rainy if the level is more than 1.0 mm\n",
    "#   \"high\"       - 4.0 to 8.0 mm of Rainfall\n",
    "#   \"very high\"  - > 8.0 mm of Rainfall\n",
    "\n",
    "# 1. Let's enrich the DF with rainfall level based on our categorization\n",
    "totalRainfall = df.count()\n",
    "rainFallDF = (df\n",
    "                   .where(col(\"Rainfall\").isNotNull())\n",
    "                   .withColumn(\"RainfallLevel\", \n",
    "                               when(col(\"Rainfall\")<=0.1, \"1. very low\")\n",
    "                               .when((col(\"Rainfall\")>0.5) & (col(\"Rainfall\")<=1.0), \"2. low\")\n",
    "                               .when((col(\"Rainfall\")>1.0) & (col(\"Rainfall\")<=4.0), \"3. medium\")\n",
    "                               .when((col(\"Rainfall\")>4.0) & (col(\"Rainfall\")<=8.0), \"4. high\")\n",
    "                               .otherwise(\"5. very high\"))\n",
    "    .cache() # optimization to make the processing faster\n",
    "                        )\n",
    "\n",
    "\n",
    "# 2. Ready to answer to this business question\n",
    "rainFallDF.select(\"RainfallLevel\")\\\n",
    "                     .groupBy(\"RainfallLevel\")\\\n",
    "                     .agg(count(\"RainfallLevel\").alias(\"NumDays\"), \\\n",
    "                          (count(\"RainfallLevel\")/totalRainfall*100).alias(\"Ratio\"))\\\n",
    "                     .orderBy(\"RainfallLevel\")\\\n",
    "                     .select(\"RainfallLevel\", \"NumDays\" , round(\"Ratio\", 2).alias(\"RoundedRatio\")).show()"
   ]
  },
  {
   "cell_type": "markdown",
   "metadata": {},
   "source": [
    "We can see that most days pass without rain. But also 17% of days with relatively heavy rain."
   ]
  },
  {
   "cell_type": "markdown",
   "metadata": {},
   "source": [
    "### B. Compare Humidity, Max/MinTemp, Temperature, Wind Gust Speed of days with different levels of Rainfall"
   ]
  },
  {
   "cell_type": "code",
   "execution_count": 49,
   "metadata": {},
   "outputs": [
    {
     "data": {
      "text/markdown": [
       "**'Humidity9am'** (percent):"
      ],
      "text/plain": [
       "<IPython.core.display.Markdown object>"
      ]
     },
     "metadata": {},
     "output_type": "display_data"
    },
    {
     "name": "stdout",
     "output_type": "stream",
     "text": [
      "+-------------+------------------+-----------------+------------------+------------------+\n",
      "|RainfallLevel|AverageHumidity9am|LowestHumidity9am|HighestHumidity9am| StdDevHumidity9am|\n",
      "+-------------+------------------+-----------------+------------------+------------------+\n",
      "|  1. very low| 62.84813842455662|                0|               100|18.540841299718984|\n",
      "|       2. low| 77.19186504808451|               10|               100|15.285548133662981|\n",
      "|    3. medium| 79.38014600737563|                1|               100|14.319941752206883|\n",
      "|      4. high| 81.25076009845084|               14|               100|13.769973690190458|\n",
      "| 5. very high|  79.8820641913153|                1|               100| 15.01801871857628|\n",
      "+-------------+------------------+-----------------+------------------+------------------+\n",
      "\n"
     ]
    },
    {
     "data": {
      "text/markdown": [
       "**'Humidity3pm'** (percent):"
      ],
      "text/plain": [
       "<IPython.core.display.Markdown object>"
      ]
     },
     "metadata": {},
     "output_type": "display_data"
    },
    {
     "name": "stdout",
     "output_type": "stream",
     "text": [
      "+-------------+------------------+-----------------+------------------+------------------+\n",
      "|RainfallLevel|AverageHumidity3pm|LowestHumidity3pm|HighestHumidity3pm| StdDevHumidity3pm|\n",
      "+-------------+------------------+-----------------+------------------+------------------+\n",
      "|  1. very low|44.857337354006795|                0|               100|19.410347322021217|\n",
      "|       2. low| 60.77081668531245|                5|               100|17.454898728730374|\n",
      "|    3. medium|63.119221967963384|                1|               100| 17.18607284132653|\n",
      "|      4. high| 65.93331370528485|                6|               100| 17.27868124441239|\n",
      "| 5. very high| 63.36847248778415|                1|               100|18.133107232689323|\n",
      "+-------------+------------------+-----------------+------------------+------------------+\n",
      "\n"
     ]
    },
    {
     "data": {
      "text/markdown": [
       "**'MaxTemp'** (in degrees celsius):"
      ],
      "text/plain": [
       "<IPython.core.display.Markdown object>"
      ]
     },
     "metadata": {},
     "output_type": "display_data"
    },
    {
     "name": "stdout",
     "output_type": "stream",
     "text": [
      "+-------------+------------------+-------------+--------------+------------------+\n",
      "|RainfallLevel|    AverageMaxTemp|LowestMaxTemp|HighestMaxTemp|     StdDevMaxTemp|\n",
      "+-------------+------------------+-------------+--------------+------------------+\n",
      "|  1. very low| 24.86252850236239|         -2.1|          48.1|6.9913464206633655|\n",
      "|       2. low|20.346253308393138|         -1.7|          44.9| 6.357019826132103|\n",
      "|    3. medium|19.909953063761726|         -4.1|          46.3| 6.327637734360568|\n",
      "|      4. high| 19.82801031612112|         -4.8|          41.8| 6.425530237851865|\n",
      "| 5. very high|20.684054189296116|         -3.8|          44.6| 6.364049670083962|\n",
      "+-------------+------------------+-------------+--------------+------------------+\n",
      "\n"
     ]
    },
    {
     "data": {
      "text/markdown": [
       "**'MinTemp'** (in degrees celsius):"
      ],
      "text/plain": [
       "<IPython.core.display.Markdown object>"
      ]
     },
     "metadata": {},
     "output_type": "display_data"
    },
    {
     "name": "stdout",
     "output_type": "stream",
     "text": [
      "+-------------+------------------+-------------+--------------+------------------+\n",
      "|RainfallLevel|    AverageMinTemp|LowestMinTemp|HighestMinTemp|     StdDevMinTemp|\n",
      "+-------------+------------------+-------------+--------------+------------------+\n",
      "|  1. very low|12.197770652953112|         -8.2|          33.9| 6.497621818447062|\n",
      "|       2. low|11.921321700980883|         -8.5|          28.6| 6.169146371602933|\n",
      "|    3. medium| 12.04574428184277|         -7.0|          28.3| 5.961955826197629|\n",
      "|      4. high|12.472990403632146|         -7.8|          27.3|5.9365035939371325|\n",
      "| 5. very high|12.210623757464711|         -8.0|          27.8|6.4766426399615655|\n",
      "+-------------+------------------+-------------+--------------+------------------+\n",
      "\n"
     ]
    },
    {
     "data": {
      "text/markdown": [
       "**'WindGustSpeed'** (km/h):"
      ],
      "text/plain": [
       "<IPython.core.display.Markdown object>"
      ]
     },
     "metadata": {},
     "output_type": "display_data"
    },
    {
     "name": "stdout",
     "output_type": "stream",
     "text": [
      "+-------------+--------------------+-------------------+--------------------+-------------------+\n",
      "|RainfallLevel|AverageWindGustSpeed|LowestWindGustSpeed|HighestWindGustSpeed|StdDevWindGustSpeed|\n",
      "+-------------+--------------------+-------------------+--------------------+-------------------+\n",
      "|  1. very low|   38.90988876894917|                  7|                 130| 12.761121035053586|\n",
      "|       2. low|   40.44055237453688|                  6|                 113|  13.92959458685912|\n",
      "|    3. medium|   41.97314629258517|                  9|                 135| 14.207463267827045|\n",
      "|      4. high|   43.90278425882719|                  7|                 109| 14.526739930842059|\n",
      "| 5. very high|   41.71483262108262|                  7|                 135| 15.287392451713098|\n",
      "+-------------+--------------------+-------------------+--------------------+-------------------+\n",
      "\n"
     ]
    },
    {
     "data": {
      "text/markdown": [
       "**'Temp9am'** (in degrees celsius):"
      ],
      "text/plain": [
       "<IPython.core.display.Markdown object>"
      ]
     },
     "metadata": {},
     "output_type": "display_data"
    },
    {
     "name": "stdout",
     "output_type": "stream",
     "text": [
      "+-------------+------------------+-------------+--------------+-----------------+\n",
      "|RainfallLevel|    AverageTemp9am|LowestTemp9am|HighestTemp9am|    StdDevTemp9am|\n",
      "+-------------+------------------+-------------+--------------+-----------------+\n",
      "|  1. very low|17.814084682033865|         -5.3|          40.2|6.530027236431616|\n",
      "|       2. low|15.454067582736615|         -5.6|          36.8|6.114744534118953|\n",
      "|    3. medium|15.264453735030349|         -5.5|          35.8|6.008273854494421|\n",
      "|      4. high| 15.44297830110521|         -7.2|          32.3|6.038622690684605|\n",
      "| 5. very high|15.677078652778144|         -5.9|          36.0|6.299452768583099|\n",
      "+-------------+------------------+-------------+--------------+-----------------+\n",
      "\n"
     ]
    },
    {
     "data": {
      "text/markdown": [
       "**'Temp3pm'** (in degrees celsius):"
      ],
      "text/plain": [
       "<IPython.core.display.Markdown object>"
      ]
     },
     "metadata": {},
     "output_type": "display_data"
    },
    {
     "name": "stdout",
     "output_type": "stream",
     "text": [
      "+-------------+------------------+-------------+--------------+------------------+\n",
      "|RainfallLevel|    AverageTemp3pm|LowestTemp3pm|HighestTemp3pm|     StdDevTemp3pm|\n",
      "+-------------+------------------+-------------+--------------+------------------+\n",
      "|  1. very low|23.304804204747374|         -4.0|          46.7| 6.806170871279209|\n",
      "|       2. low|18.829858801394877|         -3.0|          42.6|6.1572952623697805|\n",
      "|    3. medium| 18.39319402943301|         -4.4|          44.7|  6.13526373501759|\n",
      "|      4. high| 18.30713137457193|         -5.4|          40.2| 6.271218431201189|\n",
      "| 5. very high| 19.17177249441582|         -5.1|          43.3| 6.199604232821436|\n",
      "+-------------+------------------+-------------+--------------+------------------+\n",
      "\n"
     ]
    }
   ],
   "source": [
    "from pyspark.sql.functions import max, min, avg, stddev\n",
    "from pyspark.sql.types import IntegerType\n",
    "  \n",
    "#   Since we had cleaning beforehand, the data is ready for detailed analysis\n",
    "\n",
    "cachedRainFallDF = (rainFallDF\n",
    "                       .cache() # optimization to make the processing faster\n",
    "                 )\n",
    "\n",
    "display(Markdown(\"**'Humidity9am'** (percent):\")) \n",
    "(cachedRainFallDF.groupBy(\"RainfallLevel\")\n",
    "              .agg(avg(\"Humidity9am\").alias(\"AverageHumidity9am\"),\n",
    "                   min(\"Humidity9am\").alias(\"LowestHumidity9am\"),\n",
    "                   max(\"Humidity9am\").alias(\"HighestHumidity9am\"),\n",
    "                   stddev(\"Humidity9am\").alias(\"StdDevHumidity9am\"))\n",
    "              .orderBy(\"RainfallLevel\").show())\n",
    "\n",
    "\n",
    "display(Markdown(\"**'Humidity3pm'** (percent):\")) \n",
    "(cachedRainFallDF.groupBy(\"RainfallLevel\")\n",
    "              .agg(avg(\"Humidity3pm\").alias(\"AverageHumidity3pm\"),\n",
    "                   min(\"Humidity3pm\").alias(\"LowestHumidity3pm\"),\n",
    "                   max(\"Humidity3pm\").alias(\"HighestHumidity3pm\"),\n",
    "                   stddev(\"Humidity3pm\").alias(\"StdDevHumidity3pm\"))\n",
    "              .orderBy(\"RainfallLevel\").show())\n",
    "\n",
    "\n",
    "display(Markdown(\"**'MaxTemp'** (in degrees celsius):\")) \n",
    "(cachedRainFallDF.groupBy(\"RainfallLevel\")\n",
    "              .agg(avg(\"MaxTemp\").alias(\"AverageMaxTemp\"),\n",
    "                   min(\"MaxTemp\").alias(\"LowestMaxTemp\"),\n",
    "                   max(\"MaxTemp\").alias(\"HighestMaxTemp\"),\n",
    "                   stddev(\"MaxTemp\").alias(\"StdDevMaxTemp\"))\n",
    "              .orderBy(\"RainfallLevel\").show())\n",
    "\n",
    "\n",
    "display(Markdown(\"**'MinTemp'** (in degrees celsius):\")) \n",
    "(cachedRainFallDF.groupBy(\"RainfallLevel\")\n",
    "              .agg(avg(\"MinTemp\").alias(\"AverageMinTemp\"),\n",
    "                   min(\"MinTemp\").alias(\"LowestMinTemp\"),\n",
    "                   max(\"MinTemp\").alias(\"HighestMinTemp\"),\n",
    "                   stddev(\"MinTemp\").alias(\"StdDevMinTemp\"))\n",
    "              .orderBy(\"RainfallLevel\").show())\n",
    "\n",
    "\n",
    "display(Markdown(\"**'WindGustSpeed'** (km/h):\")) \n",
    "(cachedRainFallDF.groupBy(\"RainfallLevel\")\n",
    "              .agg(avg(\"WindGustSpeed\").alias(\"AverageWindGustSpeed\"),\n",
    "                   min(\"WindGustSpeed\").alias(\"LowestWindGustSpeed\"),\n",
    "                   max(\"WindGustSpeed\").alias(\"HighestWindGustSpeed\"),\n",
    "                   stddev(\"WindGustSpeed\").alias(\"StdDevWindGustSpeed\"))\n",
    "              .orderBy(\"RainfallLevel\").show())\n",
    "\n",
    "\n",
    "display(Markdown(\"**'Temp9am'** (in degrees celsius):\")) \n",
    "(cachedRainFallDF.groupBy(\"RainfallLevel\")\n",
    "              .agg(avg(\"Temp9am\").alias(\"AverageTemp9am\"),\n",
    "                   min(\"Temp9am\").alias(\"LowestTemp9am\"),\n",
    "                   max(\"Temp9am\").alias(\"HighestTemp9am\"),\n",
    "                   stddev(\"Temp9am\").alias(\"StdDevTemp9am\"))\n",
    "              .orderBy(\"RainfallLevel\").show())\n",
    "\n",
    "\n",
    "display(Markdown(\"**'Temp3pm'** (in degrees celsius):\")) \n",
    "(cachedRainFallDF.groupBy(\"RainfallLevel\")\n",
    "              .agg(avg(\"Temp3pm\").alias(\"AverageTemp3pm\"),\n",
    "                   min(\"Temp3pm\").alias(\"LowestTemp3pm\"),\n",
    "                   max(\"Temp3pm\").alias(\"HighestTemp3pm\"),\n",
    "                   stddev(\"Temp3pm\").alias(\"StdDevTemp3pm\"))\n",
    "              .orderBy(\"RainfallLevel\").show())"
   ]
  },
  {
   "cell_type": "markdown",
   "metadata": {},
   "source": [
    "### C. Top 20 locations with the highest and lowest levels of rainfall during years"
   ]
  },
  {
   "cell_type": "markdown",
   "metadata": {},
   "source": [
    "#### A. Top 20 locations with the highest levels of rainfall during years"
   ]
  },
  {
   "cell_type": "code",
   "execution_count": 50,
   "metadata": {},
   "outputs": [
    {
     "data": {
      "text/markdown": [
       "**Top 20 locations** with the highest rainfall level (**very high**) by ratio (in \\%):"
      ],
      "text/plain": [
       "<IPython.core.display.Markdown object>"
      ]
     },
     "metadata": {},
     "output_type": "display_data"
    },
    {
     "name": "stdout",
     "output_type": "stream",
     "text": [
      "+-------------+-------------+---------------+-----------------+-------------+\n",
      "|     Location|RainfallLevel|NumRainfallDays|TotalRainfallDays|RainfallRatio|\n",
      "+-------------+-------------+---------------+-----------------+-------------+\n",
      "|     Portland| 5. very high|            787|             3009|        26.15|\n",
      "|  Witchcliffe| 5. very high|            723|             3009|        24.03|\n",
      "| MountGambier| 5. very high|            692|             3040|        22.76|\n",
      "|  MountGinini| 5. very high|            680|             3040|        22.37|\n",
      "|NorfolkIsland| 5. very high|            667|             3009|        22.17|\n",
      "|       Cairns| 5. very high|            673|             3040|        22.14|\n",
      "|      Penrith| 5. very high|            670|             3039|        22.05|\n",
      "|      Walpole| 5. very high|            660|             3006|        21.96|\n",
      "|     Dartmoor| 5. very high|            657|             3009|        21.83|\n",
      "|         Sale| 5. very high|            645|             3009|        21.44|\n",
      "|    NorahHead| 5. very high|            633|             3004|        21.07|\n",
      "| CoffsHarbour| 5. very high|            626|             3009|         20.8|\n",
      "|     Watsonia| 5. very high|            614|             3009|        20.41|\n",
      "|       Sydney| 5. very high|            682|             3344|        20.39|\n",
      "|      Bendigo| 5. very high|            598|             3040|        19.67|\n",
      "|     Richmond| 5. very high|            578|             3009|        19.21|\n",
      "|       Darwin| 5. very high|            611|             3193|        19.14|\n",
      "|       Hobart| 5. very high|            605|             3193|        18.95|\n",
      "|    Newcastle| 5. very high|            576|             3039|        18.95|\n",
      "|     Brisbane| 5. very high|            592|             3193|        18.54|\n",
      "+-------------+-------------+---------------+-----------------+-------------+\n",
      "\n"
     ]
    },
    {
     "data": {
      "text/markdown": [
       "**Top 20 locations with positive rainfall** by rainfall level (in mm):"
      ],
      "text/plain": [
       "<IPython.core.display.Markdown object>"
      ]
     },
     "metadata": {},
     "output_type": "display_data"
    },
    {
     "name": "stdout",
     "output_type": "stream",
     "text": [
      "+-------------+---------+-------+------------+\n",
      "|     Location|3. medium|4. high|5. very high|\n",
      "+-------------+---------+-------+------------+\n",
      "|     Portland|    17.95|   9.24|       26.15|\n",
      "|  Witchcliffe|     12.0|   6.48|       24.03|\n",
      "| MountGambier|    15.92|   6.28|       22.76|\n",
      "|  MountGinini|     9.87|   5.69|       22.37|\n",
      "|NorfolkIsland|    14.82|   6.28|       22.17|\n",
      "|       Cairns|    11.12|   5.92|       22.14|\n",
      "|      Penrith|     8.06|   3.55|       22.05|\n",
      "|      Walpole|    13.17|   6.85|       21.96|\n",
      "|     Dartmoor|    15.35|   7.41|       21.83|\n",
      "|         Sale|     11.5|   4.65|       21.44|\n",
      "|    NorahHead|     9.29|   6.13|       21.07|\n",
      "| CoffsHarbour|    10.04|   5.15|        20.8|\n",
      "|     Watsonia|    12.13|   5.75|       20.41|\n",
      "|       Sydney|     8.85|   5.95|       20.39|\n",
      "|      Bendigo|     7.93|   4.24|       19.67|\n",
      "|     Richmond|     7.28|   3.99|       19.21|\n",
      "|       Darwin|     6.55|   4.67|       19.14|\n",
      "|       Hobart|    12.84|   5.26|       18.95|\n",
      "|    Newcastle|     8.46|   5.17|       18.95|\n",
      "|     Brisbane|     8.68|   4.48|       18.54|\n",
      "+-------------+---------+-------+------------+\n",
      "\n"
     ]
    }
   ],
   "source": [
    "# Our answer to this business question will be:\n",
    "#   1. List of top 20 locations in Australia with high level of rainfall during the years\n",
    "#   2. List of top 20 locations in Australia airports with positive rainfall by level (medium,\n",
    "#      high and very high >= 1.00 mm)\n",
    "\n",
    "# In order to be able to deliver these insights, we need some preparation:\n",
    "#   1. Define a DataFrame with total Rainfall day per Location (totalRainfallLocationDF)\n",
    "#   2. Define a DataFrame with aggregated data by Location and RainfallLevel to figure out\n",
    "#      number of days rained per rainfall level (numRainfallFD)\n",
    "#   3. Combine both DataFrames to come up with one single DataFrame containing total rainfall days\n",
    "#      per location and number of rainfall days by level to compute ratios (combinedDF)\n",
    "\n",
    "totalRainfallLocationDF = ( \n",
    "            df.groupBy(\"Location\")\n",
    "            .agg(count(lit(1)).alias(\"TotalRainfallDays\")\n",
    "            )\n",
    ")\n",
    "    \n",
    "numRainfallDF = ( cachedRainFallDF\n",
    "                 .where((col(\"RainfallLevel\")!=\"1. very low\") & (col(\"RainfallLevel\")!=\"2. low\"))\n",
    "                 .select(\"Location\", \"RainfallLevel\")\n",
    "                 .groupBy(\"Location\", \"RainfallLevel\")\n",
    "                 .agg(count(lit(1)).alias(\"NumRainfallDays\"))\n",
    "                )\n",
    "\n",
    "combinedDF = (\n",
    "  numRainfallDF\n",
    "     .join(totalRainfallLocationDF, \"Location\")\n",
    "     .withColumn(\"RainfallRatio\", round(col(\"NumRainfallDays\")/col(\"TotalRainfallDays\")*100,2))\n",
    "     .orderBy(col(\"RainfallRatio\").desc())\n",
    "     .cache()\n",
    ")\n",
    "\n",
    "display(Markdown(\"**Top 20 locations** with the highest rainfall level (**very high**) by ratio (in \\%):\"))\n",
    "combinedDF.limit(20).show()\n",
    "\n",
    "display(Markdown(\"**Top 20 locations with positive rainfall** by rainfall level (in mm):\"))\n",
    "(combinedDF\n",
    "   .groupBy(\"Location\")\n",
    "   .pivot(\"RainfallLevel\")\n",
    "   .min(\"RainfallRatio\")\n",
    "   .orderBy(col(\"`5. very high`\").desc(), col(\"`4. high`\").desc(), col(\"`3. medium`\").desc())\n",
    "   .limit(20).show())"
   ]
  },
  {
   "cell_type": "markdown",
   "metadata": {},
   "source": [
    "#### B. Top 20 locations with the lowest levels of rainfall during years"
   ]
  },
  {
   "cell_type": "code",
   "execution_count": 51,
   "metadata": {
    "scrolled": true
   },
   "outputs": [
    {
     "data": {
      "text/markdown": [
       "**Top 20 locations** with the lowest rainfall level (**very low**) by ratio (in \\%):"
      ],
      "text/plain": [
       "<IPython.core.display.Markdown object>"
      ]
     },
     "metadata": {},
     "output_type": "display_data"
    },
    {
     "name": "stdout",
     "output_type": "stream",
     "text": [
      "+-------------+-------------+---------------+-----------------+-------------+\n",
      "|     Location|RainfallLevel|NumRainfallDays|TotalRainfallDays|RainfallRatio|\n",
      "+-------------+-------------+---------------+-----------------+-------------+\n",
      "| AliceSprings|  1. very low|           2665|             3040|        87.66|\n",
      "|      Woomera|  1. very low|           2603|             3009|        86.51|\n",
      "|        Uluru|  1. very low|           1324|             1578|         83.9|\n",
      "|      Mildura|  1. very low|           2424|             3009|        80.56|\n",
      "|        Cobar|  1. very low|           2382|             3009|        79.16|\n",
      "|    Katherine|  1. very low|           1229|             1578|        77.88|\n",
      "|        Moree|  1. very low|           2267|             3009|        75.34|\n",
      "| PerthAirport|  1. very low|           2235|             3009|        74.28|\n",
      "|   Townsville|  1. very low|           2232|             3040|        73.42|\n",
      "|        Perth|  1. very low|           2293|             3193|        71.81|\n",
      "|   WaggaWagga|  1. very low|           2153|             3009|        71.55|\n",
      "|  Tuggeranong|  1. very low|           2149|             3039|        70.71|\n",
      "|     Canberra|  1. very low|           2421|             3436|        70.46|\n",
      "|   PearceRAAF|  1. very low|           2068|             3009|        68.73|\n",
      "|   SalmonGums|  1. very low|           2033|             3001|        67.74|\n",
      "|       Darwin|  1. very low|           2147|             3193|        67.24|\n",
      "|         Nhil|  1. very low|           1052|             1578|        66.67|\n",
      "|       Albury|  1. very low|           2015|             3040|        66.28|\n",
      "|    Nuriootpa|  1. very low|           1943|             3009|        64.57|\n",
      "|BadgerysCreek|  1. very low|           1939|             3009|        64.44|\n",
      "+-------------+-------------+---------------+-----------------+-------------+\n",
      "\n"
     ]
    },
    {
     "data": {
      "text/markdown": [
       "**Top 20 locations with negative rainfall** by rainfall level (in mm):"
      ],
      "text/plain": [
       "<IPython.core.display.Markdown object>"
      ]
     },
     "metadata": {},
     "output_type": "display_data"
    },
    {
     "name": "stdout",
     "output_type": "stream",
     "text": [
      "+-------------+-----------+------+\n",
      "|     Location|1. very low|2. low|\n",
      "+-------------+-----------+------+\n",
      "| AliceSprings|      87.66|  1.68|\n",
      "|      Woomera|      86.51|  1.69|\n",
      "|        Uluru|       83.9|  1.27|\n",
      "|      Mildura|      80.56|  2.89|\n",
      "|        Cobar|      79.16|  2.69|\n",
      "|    Katherine|      77.88|  2.47|\n",
      "|        Moree|      75.34|  2.36|\n",
      "| PerthAirport|      74.28|  3.02|\n",
      "|   Townsville|      73.42|  3.52|\n",
      "|        Perth|      71.81|  2.94|\n",
      "|   WaggaWagga|      71.55|  4.02|\n",
      "|  Tuggeranong|      70.71|  3.13|\n",
      "|     Canberra|      70.46|  3.52|\n",
      "|   PearceRAAF|      68.73|  2.49|\n",
      "|   SalmonGums|      67.74|   4.5|\n",
      "|       Darwin|      67.24|  2.41|\n",
      "|         Nhil|      66.67|  4.44|\n",
      "|       Albury|      66.28|  3.62|\n",
      "|    Nuriootpa|      64.57|  5.05|\n",
      "|BadgerysCreek|      64.44|  3.59|\n",
      "+-------------+-----------+------+\n",
      "\n"
     ]
    }
   ],
   "source": [
    "# Our answer to this business question will be:\n",
    "#   1. List of top 20 locations in Australia with very low level of rainfall during the years\n",
    "#   2. List of top 20 locations in Australia airports with negative rainfall by level (low,\n",
    "#      very low < 1.00 mm)\n",
    "\n",
    "# In order to be able to deliver these insights, we need some preparation:\n",
    "#   1. Define a DataFrame with total Rainfall day per Location (totalRainfallLocationDF)\n",
    "#   2. Define a DataFrame with aggregated data by Location and RainfallLevel to figure out\n",
    "#      number of days rained per rainfall level (numRainfallFD)\n",
    "#   3. Combine both DataFrames to come up with one single DataFrame containing total rainfall days\n",
    "#      per location and number of rainfall days by level to compute ratios (combinedDF)\n",
    "\n",
    "totalRainfallLocationDF = ( \n",
    "            df.groupBy(\"Location\")\n",
    "            .agg(count(lit(1)).alias(\"TotalRainfallDays\")\n",
    "            )\n",
    ")\n",
    "    \n",
    "numRainfallFD = ( cachedRainFallDF\n",
    "                 .where((col(\"RainfallLevel\")!=\"5. very high\") & (col(\"RainfallLevel\")!=\"4. high\") & (col(\"RainfallLevel\")!=\"3. medium\"))\n",
    "                 .select(\"Location\", \"RainfallLevel\")\n",
    "                 .groupBy(\"Location\", \"RainfallLevel\")\n",
    "                 .agg(count(lit(1)).alias(\"NumRainfallDays\"))\n",
    "                )\n",
    "\n",
    "combinedDF = (\n",
    "  numRainfallFD\n",
    "     .join(totalRainfallLocationDF, \"Location\")\n",
    "     .withColumn(\"RainfallRatio\", round(col(\"NumRainfallDays\")/col(\"TotalRainfallDays\")*100,2))\n",
    "     .orderBy(col(\"RainfallRatio\").desc())\n",
    "     .cache()\n",
    "    )\n",
    "\n",
    "display(Markdown(\"**Top 20 locations** with the lowest rainfall level (**very low**) by ratio (in \\%):\"))\n",
    "combinedDF.limit(20).show()\n",
    "display(Markdown(\"**Top 20 locations with negative rainfall** by rainfall level (in mm):\"))\n",
    "(combinedDF\n",
    "   .groupBy(\"Location\")\n",
    "   .pivot(\"RainfallLevel\")\n",
    "   .min(\"RainfallRatio\")\n",
    "   .orderBy(col(\"`1. very low`\").desc(), col(\"`2. low`\").desc())\n",
    "   .limit(20).show())"
   ]
  },
  {
   "cell_type": "markdown",
   "metadata": {},
   "source": [
    "## Conclusions\n",
    "* The mean rainfall in all regions is 2.36 mm which is above the threshold of 1 mm. This must be a result of the rainfall days with very high level.\n",
    "* The rainfall level has a higher correlation with min/max temperature during the day and humidity measured at 3 pm and 9 am.\n",
    "* Minimum temperature, maximum temperature, wind gust speed, and humidity at 3 pm and 9 am components are remarkably different among the days with very low and very high levels of rainfall.\n",
    "* Portland, Witchcliffe, MountGambier, MountGinini, NorfolkIsland, Cairns, Penrith, Walpole, Dartmoor, Sale are the top 10 regions with very high levels of rainfall.\n",
    "* AliceSprings, Woomera, Uluru, Mildura, Cobar, Katherine, Moree, PerthAirport, Townsville, Perth are the top 10 regions with very low levels of rainfall."
   ]
  },
  {
   "cell_type": "markdown",
   "metadata": {},
   "source": [
    "#### Result\n",
    "* Authorities can focus on strategies to improve the amount of average daily rainfall levels in AliceSprings, Woomera, Uluru, Mildura, Cobar, Katherine, Moree, PerthAirport, Townsville, Perth.\n",
    "* While implementing new strategies, improvement can be measured by components such as average minimum temperature, average maximum temperature, average wind gust speed, and average humidity at 3 pm and 9 am."
   ]
  }
 ],
 "metadata": {
  "kernelspec": {
   "display_name": "Python 3",
   "language": "python",
   "name": "python3"
  },
  "language_info": {
   "codemirror_mode": {
    "name": "ipython",
    "version": 3
   },
   "file_extension": ".py",
   "mimetype": "text/x-python",
   "name": "python",
   "nbconvert_exporter": "python",
   "pygments_lexer": "ipython3",
   "version": "3.7.3"
  }
 },
 "nbformat": 4,
 "nbformat_minor": 4
}
